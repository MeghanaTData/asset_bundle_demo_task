{
 "cells": [
  {
   "cell_type": "code",
   "execution_count": 0,
   "metadata": {
    "application/vnd.databricks.v1+cell": {
     "cellMetadata": {
      "byteLimit": 2048000,
      "rowLimit": 10000
     },
     "inputWidgets": {},
     "nuid": "5b0b39c5-b08e-40b5-b814-40450bc71135",
     "showTitle": false,
     "tableResultSettingsMap": {},
     "title": ""
    }
   },
   "outputs": [
    {
     "output_type": "stream",
     "name": "stdout",
     "output_type": "stream",
     "text": [
      "✅ Ingest Notebook Running with input_table = default_input_table\n"
     ]
    }
   ],
   "source": [
    "# Databricks notebook source\n",
    "dbutils.widgets.text(\"input_table\", \"default_input_table\")\n",
    "input_table = dbutils.widgets.get(\"input_table\")\n",
    "\n",
    "print(f\"✅ Ingest Notebook Running with input_table = {input_table}\")\n",
    "\n",
    "# Create dummy data\n",
    "from pyspark.sql import SparkSession\n",
    "spark = SparkSession.builder.getOrCreate()\n",
    "\n",
    "df = spark.createDataFrame(\n",
    "    [(1, \"Alice\"), (2, \"Bob\"), (3, \"Charlie\")],\n",
    "    [\"id\", \"name\"]\n",
    ")\n",
    "\n",
    "df.write.mode(\"overwrite\").saveAsTable(input_table)\n"
   ]
  }
 ],
 "metadata": {
  "application/vnd.databricks.v1+notebook": {
   "computePreferences": {
    "hardware": {
     "accelerator": null,
     "gpuPoolId": null,
     "memory": null
    }
   },
   "dashboards": [],
   "environmentMetadata": {
    "base_environment": "",
    "environment_version": "2"
   },
   "inputWidgetPreferences": null,
   "language": "python",
   "notebookMetadata": {
    "pythonIndentUnit": 4
   },
   "notebookName": "Notebook 1",
   "widgets": {
    "input_table": {
     "currentValue": "default_input_table",
     "nuid": "e05804e2-12be-42d3-ae39-49203a5f2d4c",
     "typedWidgetInfo": {
      "autoCreated": false,
      "defaultValue": "default_input_table",
      "label": null,
      "name": "input_table",
      "options": {
       "widgetDisplayType": "Text",
       "validationRegex": null
      },
      "parameterDataType": "String"
     },
     "widgetInfo": {
      "widgetType": "text",
      "defaultValue": "default_input_table",
      "label": null,
      "name": "input_table",
      "options": {
       "widgetType": "text",
       "autoCreated": false,
       "validationRegex": null
      }
     }
    }
   }
  },
  "language_info": {
   "name": "python"
  }
 },
 "nbformat": 4,
 "nbformat_minor": 0
}