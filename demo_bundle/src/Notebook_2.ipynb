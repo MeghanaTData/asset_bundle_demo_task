{
 "cells": [
  {
   "cell_type": "code",
   "execution_count": 0,
   "metadata": {
    "application/vnd.databricks.v1+cell": {
     "cellMetadata": {},
     "inputWidgets": {},
     "nuid": "e9cfb53c-0572-4ed3-ad27-44bf82a4ca2a",
     "showTitle": false,
     "tableResultSettingsMap": {},
     "title": ""
    }
   },
   "outputs": [],
   "source": [
    "# Databricks notebook source\n",
    "dbutils.widgets.text(\"input_table\", \"default_input_table\")\n",
    "dbutils.widgets.text(\"output_table\", \"default_output_table\")\n",
    "\n",
    "input_table = dbutils.widgets.get(\"input_table\")\n",
    "output_table = dbutils.widgets.get(\"output_table\")\n",
    "\n",
    "print(f\"✅ Transform Notebook Running with input_table={input_table}, output_table={output_table}\")\n",
    "\n",
    "df = spark.table(input_table)\n",
    "df = df.withColumn(\"name_upper\", df[\"name\"].upper())\n",
    "\n",
    "df.write.mode(\"overwrite\").saveAsTable(output_table)\n"
   ]
  }
 ],
 "metadata": {
  "application/vnd.databricks.v1+notebook": {
   "computePreferences": null,
   "dashboards": [],
   "environmentMetadata": {
    "base_environment": "",
    "environment_version": "2"
   },
   "inputWidgetPreferences": null,
   "language": "python",
   "notebookMetadata": {
    "pythonIndentUnit": 4
   },
   "notebookName": "Notebook_2",
   "widgets": {}
  },
  "language_info": {
   "name": "python"
  }
 },
 "nbformat": 4,
 "nbformat_minor": 0
}