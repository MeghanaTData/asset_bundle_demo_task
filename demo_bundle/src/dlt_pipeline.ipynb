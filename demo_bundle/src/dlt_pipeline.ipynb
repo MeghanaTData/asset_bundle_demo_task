{
 "cells": [
  {
   "cell_type": "markdown",
   "metadata": {
    "application/vnd.databricks.v1+cell": {
     "cellMetadata": {},
     "inputWidgets": {},
     "nuid": "9a626959-61c8-4bba-84d2-2a4ecab1f7ec",
     "showTitle": false,
     "tableResultSettingsMap": {},
     "title": ""
    }
   },
   "source": [
    "# DLT pipeline\n",
    "\n",
    "This Delta Live Tables (DLT) definition is executed using a pipeline defined in resources/demo_bundle.pipeline.yml."
   ]
  },
  {
   "cell_type": "code",
   "execution_count": 0,
   "metadata": {
    "application/vnd.databricks.v1+cell": {
     "cellMetadata": {},
     "inputWidgets": {},
     "nuid": "9198e987-5606-403d-9f6d-8f14e6a4017f",
     "showTitle": false,
     "tableResultSettingsMap": {},
     "title": ""
    }
   },
   "outputs": [],
   "source": [
    "import dlt\n",
    "from pyspark.sql.functions import current_timestamp\n",
    "\n",
    "# Simple bronze table\n",
    "@dlt.table(\n",
    "    comment=\"Demo Bronze Table\"\n",
    ")\n",
    "def bronze_table():\n",
    "    return spark.createDataFrame(\n",
    "        [(1, \"Alice\"), (2, \"Bob\"), (3, \"Charlie\")],\n",
    "        [\"id\", \"name\"]\n",
    "    ).withColumn(\"ingest_time\", current_timestamp())\n",
    "\n",
    "# Simple silver table using bronze\n",
    "@dlt.table(\n",
    "    comment=\"Demo Silver Table\"\n",
    ")\n",
    "def silver_table():\n",
    "    return dlt.read(\"bronze_table\").withColumn(\"name_upper\", dlt.col(\"name\").upper())\n"
   ]
  }
 ],
 "metadata": {
  "application/vnd.databricks.v1+notebook": {
   "computePreferences": null,
   "dashboards": [],
   "environmentMetadata": null,
   "inputWidgetPreferences": null,
   "language": "python",
   "notebookMetadata": {
    "pythonIndentUnit": 2
   },
   "notebookName": "dlt_pipeline",
   "widgets": {}
  },
  "kernelspec": {
   "display_name": "Python 3",
   "language": "python",
   "name": "python3"
  },
  "language_info": {
   "name": "python"
  }
 },
 "nbformat": 4,
 "nbformat_minor": 0
}